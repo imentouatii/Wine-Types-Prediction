{
 "cells": [
  {
   "cell_type": "markdown",
   "id": "03f89d08",
   "metadata": {},
   "source": [
    "# Packages Importing"
   ]
  },
  {
   "cell_type": "code",
   "execution_count": 1,
   "id": "e8896d59",
   "metadata": {},
   "outputs": [],
   "source": [
    "import pandas as pd\n",
    "import matplotlib.pyplot as plt\n",
    "import numpy as np\n",
    "import seaborn as sb\n",
    "from sklearn.model_selection import train_test_split\n",
    "from keras.models import Sequential\n",
    "from keras.layers import Dense"
   ]
  },
  {
   "cell_type": "markdown",
   "id": "88e013c0",
   "metadata": {},
   "source": [
    "# Data Loading"
   ]
  },
  {
   "cell_type": "code",
   "execution_count": 2,
   "id": "fe0ea097",
   "metadata": {},
   "outputs": [],
   "source": [
    "white = pd.read_csv(\"http://archive.ics.uci.edu/ml/machine-learning-databases/wine-quality/winequality-white.csv\", sep =';')"
   ]
  },
  {
   "cell_type": "code",
   "execution_count": 3,
   "id": "c97dc821",
   "metadata": {},
   "outputs": [],
   "source": [
    "red = pd.read_csv(\"http://archive.ics.uci.edu/ml/machine-learning-databases/wine-quality/winequality-red.csv\", sep =';')"
   ]
  },
  {
   "cell_type": "markdown",
   "id": "fcb1cb14",
   "metadata": {},
   "source": [
    "# Combining Datasets"
   ]
  },
  {
   "cell_type": "code",
   "execution_count": 4,
   "id": "d16e4adf",
   "metadata": {},
   "outputs": [],
   "source": [
    "white['type'] =0\n",
    "red['type'] =1\n",
    "\n",
    "data=[red,white]\n",
    "wines=pd.concat(data)"
   ]
  },
  {
   "cell_type": "markdown",
   "id": "e00e3ffb",
   "metadata": {},
   "source": [
    "# Preparing the Data"
   ]
  },
  {
   "cell_type": "code",
   "execution_count": 5,
   "id": "f269e5dd",
   "metadata": {},
   "outputs": [
    {
     "data": {
      "text/html": [
       "<div>\n",
       "<style scoped>\n",
       "    .dataframe tbody tr th:only-of-type {\n",
       "        vertical-align: middle;\n",
       "    }\n",
       "\n",
       "    .dataframe tbody tr th {\n",
       "        vertical-align: top;\n",
       "    }\n",
       "\n",
       "    .dataframe thead th {\n",
       "        text-align: right;\n",
       "    }\n",
       "</style>\n",
       "<table border=\"1\" class=\"dataframe\">\n",
       "  <thead>\n",
       "    <tr style=\"text-align: right;\">\n",
       "      <th></th>\n",
       "      <th>fixed acidity</th>\n",
       "      <th>volatile acidity</th>\n",
       "      <th>citric acid</th>\n",
       "      <th>residual sugar</th>\n",
       "      <th>chlorides</th>\n",
       "      <th>free sulfur dioxide</th>\n",
       "      <th>total sulfur dioxide</th>\n",
       "      <th>density</th>\n",
       "      <th>pH</th>\n",
       "      <th>sulphates</th>\n",
       "      <th>alcohol</th>\n",
       "      <th>quality</th>\n",
       "      <th>type</th>\n",
       "    </tr>\n",
       "  </thead>\n",
       "  <tbody>\n",
       "    <tr>\n",
       "      <th>0</th>\n",
       "      <td>7.4</td>\n",
       "      <td>0.70</td>\n",
       "      <td>0.00</td>\n",
       "      <td>1.9</td>\n",
       "      <td>0.076</td>\n",
       "      <td>11.0</td>\n",
       "      <td>34.0</td>\n",
       "      <td>0.9978</td>\n",
       "      <td>3.51</td>\n",
       "      <td>0.56</td>\n",
       "      <td>9.4</td>\n",
       "      <td>5</td>\n",
       "      <td>1</td>\n",
       "    </tr>\n",
       "    <tr>\n",
       "      <th>1</th>\n",
       "      <td>7.8</td>\n",
       "      <td>0.88</td>\n",
       "      <td>0.00</td>\n",
       "      <td>2.6</td>\n",
       "      <td>0.098</td>\n",
       "      <td>25.0</td>\n",
       "      <td>67.0</td>\n",
       "      <td>0.9968</td>\n",
       "      <td>3.20</td>\n",
       "      <td>0.68</td>\n",
       "      <td>9.8</td>\n",
       "      <td>5</td>\n",
       "      <td>1</td>\n",
       "    </tr>\n",
       "    <tr>\n",
       "      <th>2</th>\n",
       "      <td>7.8</td>\n",
       "      <td>0.76</td>\n",
       "      <td>0.04</td>\n",
       "      <td>2.3</td>\n",
       "      <td>0.092</td>\n",
       "      <td>15.0</td>\n",
       "      <td>54.0</td>\n",
       "      <td>0.9970</td>\n",
       "      <td>3.26</td>\n",
       "      <td>0.65</td>\n",
       "      <td>9.8</td>\n",
       "      <td>5</td>\n",
       "      <td>1</td>\n",
       "    </tr>\n",
       "    <tr>\n",
       "      <th>3</th>\n",
       "      <td>11.2</td>\n",
       "      <td>0.28</td>\n",
       "      <td>0.56</td>\n",
       "      <td>1.9</td>\n",
       "      <td>0.075</td>\n",
       "      <td>17.0</td>\n",
       "      <td>60.0</td>\n",
       "      <td>0.9980</td>\n",
       "      <td>3.16</td>\n",
       "      <td>0.58</td>\n",
       "      <td>9.8</td>\n",
       "      <td>6</td>\n",
       "      <td>1</td>\n",
       "    </tr>\n",
       "    <tr>\n",
       "      <th>4</th>\n",
       "      <td>7.4</td>\n",
       "      <td>0.70</td>\n",
       "      <td>0.00</td>\n",
       "      <td>1.9</td>\n",
       "      <td>0.076</td>\n",
       "      <td>11.0</td>\n",
       "      <td>34.0</td>\n",
       "      <td>0.9978</td>\n",
       "      <td>3.51</td>\n",
       "      <td>0.56</td>\n",
       "      <td>9.4</td>\n",
       "      <td>5</td>\n",
       "      <td>1</td>\n",
       "    </tr>\n",
       "  </tbody>\n",
       "</table>\n",
       "</div>"
      ],
      "text/plain": [
       "   fixed acidity  volatile acidity  citric acid  residual sugar  chlorides  \\\n",
       "0            7.4              0.70         0.00             1.9      0.076   \n",
       "1            7.8              0.88         0.00             2.6      0.098   \n",
       "2            7.8              0.76         0.04             2.3      0.092   \n",
       "3           11.2              0.28         0.56             1.9      0.075   \n",
       "4            7.4              0.70         0.00             1.9      0.076   \n",
       "\n",
       "   free sulfur dioxide  total sulfur dioxide  density    pH  sulphates  \\\n",
       "0                 11.0                  34.0   0.9978  3.51       0.56   \n",
       "1                 25.0                  67.0   0.9968  3.20       0.68   \n",
       "2                 15.0                  54.0   0.9970  3.26       0.65   \n",
       "3                 17.0                  60.0   0.9980  3.16       0.58   \n",
       "4                 11.0                  34.0   0.9978  3.51       0.56   \n",
       "\n",
       "   alcohol  quality  type  \n",
       "0      9.4        5     1  \n",
       "1      9.8        5     1  \n",
       "2      9.8        5     1  \n",
       "3      9.8        6     1  \n",
       "4      9.4        5     1  "
      ]
     },
     "execution_count": 5,
     "metadata": {},
     "output_type": "execute_result"
    }
   ],
   "source": [
    "wines.head()"
   ]
  },
  {
   "cell_type": "code",
   "execution_count": 6,
   "id": "af0f62b4",
   "metadata": {},
   "outputs": [
    {
     "data": {
      "text/html": [
       "<div>\n",
       "<style scoped>\n",
       "    .dataframe tbody tr th:only-of-type {\n",
       "        vertical-align: middle;\n",
       "    }\n",
       "\n",
       "    .dataframe tbody tr th {\n",
       "        vertical-align: top;\n",
       "    }\n",
       "\n",
       "    .dataframe thead th {\n",
       "        text-align: right;\n",
       "    }\n",
       "</style>\n",
       "<table border=\"1\" class=\"dataframe\">\n",
       "  <thead>\n",
       "    <tr style=\"text-align: right;\">\n",
       "      <th></th>\n",
       "      <th>fixed acidity</th>\n",
       "      <th>volatile acidity</th>\n",
       "      <th>citric acid</th>\n",
       "      <th>residual sugar</th>\n",
       "      <th>chlorides</th>\n",
       "      <th>free sulfur dioxide</th>\n",
       "      <th>total sulfur dioxide</th>\n",
       "      <th>density</th>\n",
       "      <th>pH</th>\n",
       "      <th>sulphates</th>\n",
       "      <th>alcohol</th>\n",
       "      <th>quality</th>\n",
       "      <th>type</th>\n",
       "    </tr>\n",
       "  </thead>\n",
       "  <tbody>\n",
       "    <tr>\n",
       "      <th>4893</th>\n",
       "      <td>6.2</td>\n",
       "      <td>0.21</td>\n",
       "      <td>0.29</td>\n",
       "      <td>1.6</td>\n",
       "      <td>0.039</td>\n",
       "      <td>24.0</td>\n",
       "      <td>92.0</td>\n",
       "      <td>0.99114</td>\n",
       "      <td>3.27</td>\n",
       "      <td>0.50</td>\n",
       "      <td>11.2</td>\n",
       "      <td>6</td>\n",
       "      <td>0</td>\n",
       "    </tr>\n",
       "    <tr>\n",
       "      <th>4894</th>\n",
       "      <td>6.6</td>\n",
       "      <td>0.32</td>\n",
       "      <td>0.36</td>\n",
       "      <td>8.0</td>\n",
       "      <td>0.047</td>\n",
       "      <td>57.0</td>\n",
       "      <td>168.0</td>\n",
       "      <td>0.99490</td>\n",
       "      <td>3.15</td>\n",
       "      <td>0.46</td>\n",
       "      <td>9.6</td>\n",
       "      <td>5</td>\n",
       "      <td>0</td>\n",
       "    </tr>\n",
       "    <tr>\n",
       "      <th>4895</th>\n",
       "      <td>6.5</td>\n",
       "      <td>0.24</td>\n",
       "      <td>0.19</td>\n",
       "      <td>1.2</td>\n",
       "      <td>0.041</td>\n",
       "      <td>30.0</td>\n",
       "      <td>111.0</td>\n",
       "      <td>0.99254</td>\n",
       "      <td>2.99</td>\n",
       "      <td>0.46</td>\n",
       "      <td>9.4</td>\n",
       "      <td>6</td>\n",
       "      <td>0</td>\n",
       "    </tr>\n",
       "    <tr>\n",
       "      <th>4896</th>\n",
       "      <td>5.5</td>\n",
       "      <td>0.29</td>\n",
       "      <td>0.30</td>\n",
       "      <td>1.1</td>\n",
       "      <td>0.022</td>\n",
       "      <td>20.0</td>\n",
       "      <td>110.0</td>\n",
       "      <td>0.98869</td>\n",
       "      <td>3.34</td>\n",
       "      <td>0.38</td>\n",
       "      <td>12.8</td>\n",
       "      <td>7</td>\n",
       "      <td>0</td>\n",
       "    </tr>\n",
       "    <tr>\n",
       "      <th>4897</th>\n",
       "      <td>6.0</td>\n",
       "      <td>0.21</td>\n",
       "      <td>0.38</td>\n",
       "      <td>0.8</td>\n",
       "      <td>0.020</td>\n",
       "      <td>22.0</td>\n",
       "      <td>98.0</td>\n",
       "      <td>0.98941</td>\n",
       "      <td>3.26</td>\n",
       "      <td>0.32</td>\n",
       "      <td>11.8</td>\n",
       "      <td>6</td>\n",
       "      <td>0</td>\n",
       "    </tr>\n",
       "  </tbody>\n",
       "</table>\n",
       "</div>"
      ],
      "text/plain": [
       "      fixed acidity  volatile acidity  citric acid  residual sugar  chlorides  \\\n",
       "4893            6.2              0.21         0.29             1.6      0.039   \n",
       "4894            6.6              0.32         0.36             8.0      0.047   \n",
       "4895            6.5              0.24         0.19             1.2      0.041   \n",
       "4896            5.5              0.29         0.30             1.1      0.022   \n",
       "4897            6.0              0.21         0.38             0.8      0.020   \n",
       "\n",
       "      free sulfur dioxide  total sulfur dioxide  density    pH  sulphates  \\\n",
       "4893                 24.0                  92.0  0.99114  3.27       0.50   \n",
       "4894                 57.0                 168.0  0.99490  3.15       0.46   \n",
       "4895                 30.0                 111.0  0.99254  2.99       0.46   \n",
       "4896                 20.0                 110.0  0.98869  3.34       0.38   \n",
       "4897                 22.0                  98.0  0.98941  3.26       0.32   \n",
       "\n",
       "      alcohol  quality  type  \n",
       "4893     11.2        6     0  \n",
       "4894      9.6        5     0  \n",
       "4895      9.4        6     0  \n",
       "4896     12.8        7     0  \n",
       "4897     11.8        6     0  "
      ]
     },
     "execution_count": 6,
     "metadata": {},
     "output_type": "execute_result"
    }
   ],
   "source": [
    "wines.tail()"
   ]
  },
  {
   "cell_type": "code",
   "execution_count": 7,
   "id": "83131350",
   "metadata": {},
   "outputs": [
    {
     "name": "stdout",
     "output_type": "stream",
     "text": [
      "<class 'pandas.core.frame.DataFrame'>\n",
      "Int64Index: 6497 entries, 0 to 4897\n",
      "Data columns (total 13 columns):\n",
      " #   Column                Non-Null Count  Dtype  \n",
      "---  ------                --------------  -----  \n",
      " 0   fixed acidity         6497 non-null   float64\n",
      " 1   volatile acidity      6497 non-null   float64\n",
      " 2   citric acid           6497 non-null   float64\n",
      " 3   residual sugar        6497 non-null   float64\n",
      " 4   chlorides             6497 non-null   float64\n",
      " 5   free sulfur dioxide   6497 non-null   float64\n",
      " 6   total sulfur dioxide  6497 non-null   float64\n",
      " 7   density               6497 non-null   float64\n",
      " 8   pH                    6497 non-null   float64\n",
      " 9   sulphates             6497 non-null   float64\n",
      " 10  alcohol               6497 non-null   float64\n",
      " 11  quality               6497 non-null   int64  \n",
      " 12  type                  6497 non-null   int64  \n",
      "dtypes: float64(11), int64(2)\n",
      "memory usage: 710.6 KB\n"
     ]
    }
   ],
   "source": [
    "wines.info()"
   ]
  },
  {
   "cell_type": "code",
   "execution_count": 8,
   "id": "29b849e7",
   "metadata": {},
   "outputs": [
    {
     "data": {
      "text/html": [
       "<div>\n",
       "<style scoped>\n",
       "    .dataframe tbody tr th:only-of-type {\n",
       "        vertical-align: middle;\n",
       "    }\n",
       "\n",
       "    .dataframe tbody tr th {\n",
       "        vertical-align: top;\n",
       "    }\n",
       "\n",
       "    .dataframe thead th {\n",
       "        text-align: right;\n",
       "    }\n",
       "</style>\n",
       "<table border=\"1\" class=\"dataframe\">\n",
       "  <thead>\n",
       "    <tr style=\"text-align: right;\">\n",
       "      <th></th>\n",
       "      <th>fixed acidity</th>\n",
       "      <th>volatile acidity</th>\n",
       "      <th>citric acid</th>\n",
       "      <th>residual sugar</th>\n",
       "      <th>chlorides</th>\n",
       "      <th>free sulfur dioxide</th>\n",
       "      <th>total sulfur dioxide</th>\n",
       "      <th>density</th>\n",
       "      <th>pH</th>\n",
       "      <th>sulphates</th>\n",
       "      <th>alcohol</th>\n",
       "      <th>quality</th>\n",
       "      <th>type</th>\n",
       "    </tr>\n",
       "  </thead>\n",
       "  <tbody>\n",
       "    <tr>\n",
       "      <th>count</th>\n",
       "      <td>6497.000000</td>\n",
       "      <td>6497.000000</td>\n",
       "      <td>6497.000000</td>\n",
       "      <td>6497.000000</td>\n",
       "      <td>6497.000000</td>\n",
       "      <td>6497.000000</td>\n",
       "      <td>6497.000000</td>\n",
       "      <td>6497.000000</td>\n",
       "      <td>6497.000000</td>\n",
       "      <td>6497.000000</td>\n",
       "      <td>6497.000000</td>\n",
       "      <td>6497.000000</td>\n",
       "      <td>6497.000000</td>\n",
       "    </tr>\n",
       "    <tr>\n",
       "      <th>mean</th>\n",
       "      <td>7.215307</td>\n",
       "      <td>0.339666</td>\n",
       "      <td>0.318633</td>\n",
       "      <td>5.443235</td>\n",
       "      <td>0.056034</td>\n",
       "      <td>30.525319</td>\n",
       "      <td>115.744574</td>\n",
       "      <td>0.994697</td>\n",
       "      <td>3.218501</td>\n",
       "      <td>0.531268</td>\n",
       "      <td>10.491801</td>\n",
       "      <td>5.818378</td>\n",
       "      <td>0.246114</td>\n",
       "    </tr>\n",
       "    <tr>\n",
       "      <th>std</th>\n",
       "      <td>1.296434</td>\n",
       "      <td>0.164636</td>\n",
       "      <td>0.145318</td>\n",
       "      <td>4.757804</td>\n",
       "      <td>0.035034</td>\n",
       "      <td>17.749400</td>\n",
       "      <td>56.521855</td>\n",
       "      <td>0.002999</td>\n",
       "      <td>0.160787</td>\n",
       "      <td>0.148806</td>\n",
       "      <td>1.192712</td>\n",
       "      <td>0.873255</td>\n",
       "      <td>0.430779</td>\n",
       "    </tr>\n",
       "    <tr>\n",
       "      <th>min</th>\n",
       "      <td>3.800000</td>\n",
       "      <td>0.080000</td>\n",
       "      <td>0.000000</td>\n",
       "      <td>0.600000</td>\n",
       "      <td>0.009000</td>\n",
       "      <td>1.000000</td>\n",
       "      <td>6.000000</td>\n",
       "      <td>0.987110</td>\n",
       "      <td>2.720000</td>\n",
       "      <td>0.220000</td>\n",
       "      <td>8.000000</td>\n",
       "      <td>3.000000</td>\n",
       "      <td>0.000000</td>\n",
       "    </tr>\n",
       "    <tr>\n",
       "      <th>25%</th>\n",
       "      <td>6.400000</td>\n",
       "      <td>0.230000</td>\n",
       "      <td>0.250000</td>\n",
       "      <td>1.800000</td>\n",
       "      <td>0.038000</td>\n",
       "      <td>17.000000</td>\n",
       "      <td>77.000000</td>\n",
       "      <td>0.992340</td>\n",
       "      <td>3.110000</td>\n",
       "      <td>0.430000</td>\n",
       "      <td>9.500000</td>\n",
       "      <td>5.000000</td>\n",
       "      <td>0.000000</td>\n",
       "    </tr>\n",
       "    <tr>\n",
       "      <th>50%</th>\n",
       "      <td>7.000000</td>\n",
       "      <td>0.290000</td>\n",
       "      <td>0.310000</td>\n",
       "      <td>3.000000</td>\n",
       "      <td>0.047000</td>\n",
       "      <td>29.000000</td>\n",
       "      <td>118.000000</td>\n",
       "      <td>0.994890</td>\n",
       "      <td>3.210000</td>\n",
       "      <td>0.510000</td>\n",
       "      <td>10.300000</td>\n",
       "      <td>6.000000</td>\n",
       "      <td>0.000000</td>\n",
       "    </tr>\n",
       "    <tr>\n",
       "      <th>75%</th>\n",
       "      <td>7.700000</td>\n",
       "      <td>0.400000</td>\n",
       "      <td>0.390000</td>\n",
       "      <td>8.100000</td>\n",
       "      <td>0.065000</td>\n",
       "      <td>41.000000</td>\n",
       "      <td>156.000000</td>\n",
       "      <td>0.996990</td>\n",
       "      <td>3.320000</td>\n",
       "      <td>0.600000</td>\n",
       "      <td>11.300000</td>\n",
       "      <td>6.000000</td>\n",
       "      <td>0.000000</td>\n",
       "    </tr>\n",
       "    <tr>\n",
       "      <th>max</th>\n",
       "      <td>15.900000</td>\n",
       "      <td>1.580000</td>\n",
       "      <td>1.660000</td>\n",
       "      <td>65.800000</td>\n",
       "      <td>0.611000</td>\n",
       "      <td>289.000000</td>\n",
       "      <td>440.000000</td>\n",
       "      <td>1.038980</td>\n",
       "      <td>4.010000</td>\n",
       "      <td>2.000000</td>\n",
       "      <td>14.900000</td>\n",
       "      <td>9.000000</td>\n",
       "      <td>1.000000</td>\n",
       "    </tr>\n",
       "  </tbody>\n",
       "</table>\n",
       "</div>"
      ],
      "text/plain": [
       "       fixed acidity  volatile acidity  citric acid  residual sugar  \\\n",
       "count    6497.000000       6497.000000  6497.000000     6497.000000   \n",
       "mean        7.215307          0.339666     0.318633        5.443235   \n",
       "std         1.296434          0.164636     0.145318        4.757804   \n",
       "min         3.800000          0.080000     0.000000        0.600000   \n",
       "25%         6.400000          0.230000     0.250000        1.800000   \n",
       "50%         7.000000          0.290000     0.310000        3.000000   \n",
       "75%         7.700000          0.400000     0.390000        8.100000   \n",
       "max        15.900000          1.580000     1.660000       65.800000   \n",
       "\n",
       "         chlorides  free sulfur dioxide  total sulfur dioxide      density  \\\n",
       "count  6497.000000          6497.000000           6497.000000  6497.000000   \n",
       "mean      0.056034            30.525319            115.744574     0.994697   \n",
       "std       0.035034            17.749400             56.521855     0.002999   \n",
       "min       0.009000             1.000000              6.000000     0.987110   \n",
       "25%       0.038000            17.000000             77.000000     0.992340   \n",
       "50%       0.047000            29.000000            118.000000     0.994890   \n",
       "75%       0.065000            41.000000            156.000000     0.996990   \n",
       "max       0.611000           289.000000            440.000000     1.038980   \n",
       "\n",
       "                pH    sulphates      alcohol      quality         type  \n",
       "count  6497.000000  6497.000000  6497.000000  6497.000000  6497.000000  \n",
       "mean      3.218501     0.531268    10.491801     5.818378     0.246114  \n",
       "std       0.160787     0.148806     1.192712     0.873255     0.430779  \n",
       "min       2.720000     0.220000     8.000000     3.000000     0.000000  \n",
       "25%       3.110000     0.430000     9.500000     5.000000     0.000000  \n",
       "50%       3.210000     0.510000    10.300000     6.000000     0.000000  \n",
       "75%       3.320000     0.600000    11.300000     6.000000     0.000000  \n",
       "max       4.010000     2.000000    14.900000     9.000000     1.000000  "
      ]
     },
     "execution_count": 8,
     "metadata": {},
     "output_type": "execute_result"
    }
   ],
   "source": [
    "wines.describe()"
   ]
  },
  {
   "cell_type": "code",
   "execution_count": 9,
   "id": "280d403c",
   "metadata": {},
   "outputs": [
    {
     "data": {
      "text/plain": [
       "fixed acidity           0\n",
       "volatile acidity        0\n",
       "citric acid             0\n",
       "residual sugar          0\n",
       "chlorides               0\n",
       "free sulfur dioxide     0\n",
       "total sulfur dioxide    0\n",
       "density                 0\n",
       "pH                      0\n",
       "sulphates               0\n",
       "alcohol                 0\n",
       "quality                 0\n",
       "type                    0\n",
       "dtype: int64"
      ]
     },
     "execution_count": 9,
     "metadata": {},
     "output_type": "execute_result"
    }
   ],
   "source": [
    "wines.isnull().sum()"
   ]
  },
  {
   "cell_type": "markdown",
   "id": "e4646a8f",
   "metadata": {},
   "source": [
    "# Data Visualization"
   ]
  },
  {
   "cell_type": "code",
   "execution_count": 10,
   "id": "145d0365",
   "metadata": {},
   "outputs": [
    {
     "data": {
      "image/png": "[encoded data removed]",
      "text/plain": [
       "<Figure size 720x720 with 16 Axes>"
      ]
     },
     "metadata": {
      "needs_background": "light"
     },
     "output_type": "display_data"
    }
   ],
   "source": [
    "wines.hist(bins=20, figsize=(10, 10))\n",
    "plt.show()"
   ]
  },
  {
   "cell_type": "markdown",
   "id": "53e29cf5",
   "metadata": {},
   "source": [
    "# Ploting Heatmap"
   ]
  },
  {
   "cell_type": "code",
   "execution_count": null,
   "id": "0fed9534",
   "metadata": {},
   "outputs": [],
   "source": [
    "import matplotlib.pyplot as plt"
   ]
  },
  {
   "cell_type": "code",
   "execution_count": 1,
   "id": "d6c6bc92",
   "metadata": {},
   "outputs": [
    {
     "ename": "NameError",
     "evalue": "name 'plt' is not defined",
     "output_type": "error",
     "traceback": [
      "\u001b[1;31m---------------------------------------------------------------------------\u001b[0m",
      "\u001b[1;31mNameError\u001b[0m                                 Traceback (most recent call last)",
      "Cell \u001b[1;32mIn [1], line 1\u001b[0m\n\u001b[1;32m----> 1\u001b[0m plt\u001b[39m.\u001b[39mfigure(figsize\u001b[39m=\u001b[39m(\u001b[39m12\u001b[39m, \u001b[39m12\u001b[39m))\n\u001b[0;32m      2\u001b[0m sb\u001b[39m.\u001b[39mheatmap(wines\u001b[39m.\u001b[39mcorr(), annot\u001b[39m=\u001b[39m\u001b[39mTrue\u001b[39;00m, cbar\u001b[39m=\u001b[39m\u001b[39mFalse\u001b[39;00m)\n\u001b[0;32m      3\u001b[0m plt\u001b[39m.\u001b[39mshow()\n",
      "\u001b[1;31mNameError\u001b[0m: name 'plt' is not defined"
     ]
    }
   ],
   "source": [
    "plt.figure(figsize=(12, 12))\n",
    "sb.heatmap(wines.corr() > 0.7, annot=True, cbar=False)\n",
    "plt.show()"
   ]
  },
  {
   "cell_type": "markdown",
   "id": "5979e228",
   "metadata": {},
   "source": [
    "# Splitting the data set for training and validation"
   ]
  },
  {
   "cell_type": "code",
   "execution_count": 13,
   "id": "578ffdfe",
   "metadata": {},
   "outputs": [],
   "source": [
    "X=wines.loc[:,wines.columns!='type'].values\n",
    "y=wines.loc[:,'type'].values"
   ]
  },
  {
   "cell_type": "code",
   "execution_count": 14,
   "id": "b10ec6d5",
   "metadata": {},
   "outputs": [
    {
     "data": {
      "text/plain": [
       "array([[ 7.4 ,  0.7 ,  0.  , ...,  0.56,  9.4 ,  5.  ],\n",
       "       [ 7.8 ,  0.88,  0.  , ...,  0.68,  9.8 ,  5.  ],\n",
       "       [ 7.8 ,  0.76,  0.04, ...,  0.65,  9.8 ,  5.  ],\n",
       "       ...,\n",
       "       [ 6.5 ,  0.24,  0.19, ...,  0.46,  9.4 ,  6.  ],\n",
       "       [ 5.5 ,  0.29,  0.3 , ...,  0.38, 12.8 ,  7.  ],\n",
       "       [ 6.  ,  0.21,  0.38, ...,  0.32, 11.8 ,  6.  ]])"
      ]
     },
     "execution_count": 14,
     "metadata": {},
     "output_type": "execute_result"
    }
   ],
   "source": [
    "X"
   ]
  },
  {
   "cell_type": "code",
   "execution_count": 15,
   "id": "4910bf63",
   "metadata": {},
   "outputs": [
    {
     "data": {
      "text/plain": [
       "array([1, 1, 1, ..., 0, 0, 0], dtype=int64)"
      ]
     },
     "execution_count": 15,
     "metadata": {},
     "output_type": "execute_result"
    }
   ],
   "source": [
    "y"
   ]
  },
  {
   "cell_type": "code",
   "execution_count": 16,
   "id": "2928233e",
   "metadata": {},
   "outputs": [],
   "source": [
    "X_train, X_test, y_train, y_test=train_test_split(X, y,test_size=0.25,random_state=45)"
   ]
  },
  {
   "cell_type": "markdown",
   "id": "5b0500eb",
   "metadata": {},
   "source": [
    "# Structure of a Neural Network"
   ]
  },
  {
   "cell_type": "code",
   "execution_count": 17,
   "id": "31251f74",
   "metadata": {},
   "outputs": [],
   "source": [
    "model = Sequential([\n",
    "\n",
    "    Dense(12, activation ='relu', input_shape =(12,)),\n",
    " \n",
    "    Dense(9, activation ='relu'),\n",
    "    Dense(7, activation ='relu'),\n",
    " \n",
    "    Dense(1, activation ='sigmoid')\n",
    "])\n"
   ]
  },
  {
   "cell_type": "code",
   "execution_count": 18,
   "id": "4d554987",
   "metadata": {},
   "outputs": [
    {
     "data": {
      "text/plain": [
       "(None, 1)"
      ]
     },
     "execution_count": 18,
     "metadata": {},
     "output_type": "execute_result"
    }
   ],
   "source": [
    "model.output_shape\n"
   ]
  },
  {
   "cell_type": "code",
   "execution_count": 19,
   "id": "88a8a7cf",
   "metadata": {},
   "outputs": [
    {
     "name": "stdout",
     "output_type": "stream",
     "text": [
      "Model: \"sequential\"\n",
      "_________________________________________________________________\n",
      " Layer (type)                Output Shape              Param #   \n",
      "=================================================================\n",
      " dense (Dense)               (None, 12)                156       \n",
      "                                                                 \n",
      " dense_1 (Dense)             (None, 9)                 117       \n",
      "                                                                 \n",
      " dense_2 (Dense)             (None, 7)                 70        \n",
      "                                                                 \n",
      " dense_3 (Dense)             (None, 1)                 8         \n",
      "                                                                 \n",
      "=================================================================\n",
      "Total params: 351\n",
      "Trainable params: 351\n",
      "Non-trainable params: 0\n",
      "_________________________________________________________________\n"
     ]
    }
   ],
   "source": [
    "model.summary()\n"
   ]
  },
  {
   "cell_type": "code",
   "execution_count": 20,
   "id": "00aa880e",
   "metadata": {},
   "outputs": [
    {
     "data": {
      "text/plain": [
       "[array([[-0.33069384, -0.31443536, -0.08463037,  0.32637417, -0.21097219,\n",
       "          0.10051835, -0.48117578,  0.31621456, -0.09396923,  0.00263536,\n",
       "         -0.47295105, -0.31621134],\n",
       "        [-0.03804469,  0.45782888,  0.24636018, -0.3076619 , -0.46160066,\n",
       "          0.35152745,  0.22366464,  0.4433155 ,  0.25970185,  0.2736194 ,\n",
       "         -0.05420601,  0.09074295],\n",
       "        [ 0.2121309 ,  0.30902827,  0.34895754,  0.46350753,  0.29279113,\n",
       "         -0.49604332,  0.17687964, -0.03842866, -0.00566947, -0.34704018,\n",
       "          0.04514635,  0.3686285 ],\n",
       "        [ 0.012218  , -0.25044596,  0.48690045, -0.38749933, -0.4898578 ,\n",
       "         -0.36435115,  0.39848447, -0.2615093 ,  0.3814429 ,  0.08984196,\n",
       "         -0.33948565, -0.40724242],\n",
       "        [-0.14320362,  0.4125172 , -0.06042635, -0.12070858,  0.4895289 ,\n",
       "          0.31234157,  0.4286214 , -0.06259108,  0.19196665,  0.08627903,\n",
       "          0.16327858, -0.3559625 ],\n",
       "        [ 0.47425556, -0.01609182, -0.41344917, -0.00894642,  0.26998508,\n",
       "         -0.05843556, -0.33864367,  0.38063788, -0.44082105,  0.12828636,\n",
       "         -0.24841774, -0.21092546],\n",
       "        [-0.05892861, -0.4699825 , -0.06621575,  0.47063887, -0.12937176,\n",
       "         -0.08798409, -0.48030233, -0.20172524,  0.03774941,  0.2943828 ,\n",
       "          0.43816435,  0.17454267],\n",
       "        [-0.25621438,  0.21612084,  0.08590114,  0.15846181,  0.27653408,\n",
       "         -0.27268374, -0.1042304 , -0.22040594, -0.35852885, -0.4749943 ,\n",
       "         -0.43446207, -0.14957619],\n",
       "        [ 0.01149845, -0.4148389 ,  0.08758748, -0.37717307,  0.35379684,\n",
       "         -0.3938644 , -0.11523271, -0.23745322, -0.23318946,  0.19610023,\n",
       "         -0.36217368, -0.03763986],\n",
       "        [ 0.03563166, -0.01713133, -0.22144675, -0.14328921, -0.29966044,\n",
       "          0.26729834,  0.07218122, -0.4495306 , -0.44847178,  0.03285182,\n",
       "         -0.35114515, -0.04908729],\n",
       "        [-0.294199  , -0.14387667,  0.00422657, -0.31431174,  0.00552928,\n",
       "         -0.35060477,  0.0308094 ,  0.13421345, -0.10009527, -0.07921576,\n",
       "          0.26066482, -0.1599406 ],\n",
       "        [ 0.07676864, -0.35358524, -0.4036032 , -0.29127324, -0.17280293,\n",
       "         -0.08459532, -0.44504583,  0.3298378 , -0.49310374, -0.06179643,\n",
       "          0.36503184,  0.12299037]], dtype=float32),\n",
       " array([0., 0., 0., 0., 0., 0., 0., 0., 0., 0., 0., 0.], dtype=float32),\n",
       " array([[ 0.2125777 , -0.49203396, -0.28640604,  0.14086592, -0.04537579,\n",
       "          0.12068295, -0.4018279 , -0.25408685, -0.2987388 ],\n",
       "        [-0.27181378,  0.14381051,  0.2774576 , -0.25294283,  0.30125552,\n",
       "         -0.513588  , -0.48684394, -0.18905011, -0.5205052 ],\n",
       "        [ 0.32094473, -0.45879897,  0.40361053,  0.21408457,  0.0647155 ,\n",
       "         -0.02628171, -0.43257678, -0.40587807,  0.24257022],\n",
       "        [ 0.36076438,  0.1451438 , -0.42795157, -0.38525125, -0.37158304,\n",
       "         -0.28006068,  0.0440526 ,  0.4508885 ,  0.32867002],\n",
       "        [ 0.31778896,  0.01868945, -0.32744673,  0.19493526,  0.35879445,\n",
       "         -0.24337426, -0.2162002 ,  0.24524009,  0.29594892],\n",
       "        [ 0.13515759,  0.32155365, -0.02443981, -0.5330193 ,  0.2812243 ,\n",
       "         -0.2629814 , -0.23998013,  0.39822364,  0.5053517 ],\n",
       "        [ 0.42781508, -0.37652826,  0.27887648,  0.531426  , -0.12662917,\n",
       "         -0.46770525,  0.24997067, -0.518241  , -0.26103693],\n",
       "        [-0.08391368,  0.4305839 ,  0.0612607 ,  0.47090167, -0.23444107,\n",
       "         -0.33059078, -0.39853853, -0.14983743, -0.02419603],\n",
       "        [ 0.28471202,  0.1017465 ,  0.47343427, -0.072956  , -0.29372865,\n",
       "          0.14926726, -0.23932675, -0.27626386, -0.20624202],\n",
       "        [-0.08874941, -0.05710718,  0.01665044,  0.17916065,  0.05167937,\n",
       "          0.1492657 ,  0.21264052, -0.4421469 , -0.25405884],\n",
       "        [-0.21858716,  0.35761946, -0.2907269 ,  0.28637153, -0.48762017,\n",
       "          0.4601096 , -0.43840867, -0.10083365,  0.5012358 ],\n",
       "        [ 0.2610994 , -0.37458938, -0.27089074, -0.26395544, -0.12110338,\n",
       "         -0.46489367, -0.02491033, -0.4946057 , -0.2266806 ]],\n",
       "       dtype=float32),\n",
       " array([0., 0., 0., 0., 0., 0., 0., 0., 0.], dtype=float32),\n",
       " array([[ 0.5357465 ,  0.50805146,  0.5787154 ,  0.4104039 ,  0.15780121,\n",
       "         -0.19636649,  0.50732535],\n",
       "        [ 0.20870781, -0.45672244,  0.08477533, -0.10320807, -0.6100175 ,\n",
       "          0.15495056, -0.4180923 ],\n",
       "        [ 0.0113526 , -0.12479156, -0.13024381,  0.57377535, -0.37921298,\n",
       "         -0.31371507,  0.552821  ],\n",
       "        [-0.5163771 , -0.42820245,  0.46678144,  0.12475872,  0.42190033,\n",
       "         -0.3337191 , -0.21053076],\n",
       "        [-0.4539976 ,  0.3697365 , -0.00533897, -0.24698341,  0.20874548,\n",
       "          0.23287082, -0.29380754],\n",
       "        [-0.11150372,  0.5676548 , -0.27227634,  0.5152891 , -0.48597372,\n",
       "          0.47021896, -0.02843732],\n",
       "        [-0.38112766,  0.60460347, -0.3572337 , -0.14999557, -0.4442532 ,\n",
       "         -0.14400864,  0.2158776 ],\n",
       "        [ 0.26888543, -0.4842369 ,  0.13103807, -0.56297636, -0.2240214 ,\n",
       "          0.08616161, -0.21955216],\n",
       "        [ 0.5277538 ,  0.19662547,  0.3159179 , -0.01593161, -0.46196124,\n",
       "         -0.49509805,  0.3759852 ]], dtype=float32),\n",
       " array([0., 0., 0., 0., 0., 0., 0.], dtype=float32),\n",
       " array([[-0.35477358],\n",
       "        [-0.6791301 ],\n",
       "        [ 0.4075213 ],\n",
       "        [-0.81552225],\n",
       "        [ 0.24469739],\n",
       "        [-0.46942028],\n",
       "        [-0.10422027]], dtype=float32),\n",
       " array([0.], dtype=float32)]"
      ]
     },
     "execution_count": 20,
     "metadata": {},
     "output_type": "execute_result"
    }
   ],
   "source": [
    "model.get_weights()"
   ]
  },
  {
   "cell_type": "code",
   "execution_count": 21,
   "id": "0433c52c",
   "metadata": {},
   "outputs": [],
   "source": [
    "model.compile(loss ='binary_crossentropy',optimizer ='adam', metrics =['accuracy'])"
   ]
  },
  {
   "cell_type": "markdown",
   "id": "7cc13a02",
   "metadata": {},
   "source": [
    "# Model Training"
   ]
  },
  {
   "cell_type": "code",
   "execution_count": 22,
   "id": "6c65bdff",
   "metadata": {},
   "outputs": [
    {
     "name": "stdout",
     "output_type": "stream",
     "text": [
      "Epoch 1/50\n",
      "244/244 [==============================] - 2s 3ms/step - loss: 0.2476 - accuracy: 0.9228 - val_loss: 0.2120 - val_accuracy: 0.9333\n",
      "Epoch 2/50\n",
      "244/244 [==============================] - 0s 2ms/step - loss: 0.1904 - accuracy: 0.9348 - val_loss: 0.1936 - val_accuracy: 0.9405\n",
      "Epoch 3/50\n",
      "244/244 [==============================] - 0s 2ms/step - loss: 0.1766 - accuracy: 0.9374 - val_loss: 0.1806 - val_accuracy: 0.9364\n",
      "Epoch 4/50\n",
      "244/244 [==============================] - 0s 2ms/step - loss: 0.1729 - accuracy: 0.9382 - val_loss: 0.1877 - val_accuracy: 0.9405\n",
      "Epoch 5/50\n",
      "244/244 [==============================] - 0s 2ms/step - loss: 0.1624 - accuracy: 0.9433 - val_loss: 0.1663 - val_accuracy: 0.9436\n",
      "Epoch 6/50\n",
      "244/244 [==============================] - 0s 2ms/step - loss: 0.1526 - accuracy: 0.9448 - val_loss: 0.1545 - val_accuracy: 0.9446\n",
      "Epoch 7/50\n",
      "244/244 [==============================] - 0s 2ms/step - loss: 0.1465 - accuracy: 0.9471 - val_loss: 0.1547 - val_accuracy: 0.9559\n",
      "Epoch 8/50\n",
      "244/244 [==============================] - 0s 2ms/step - loss: 0.1380 - accuracy: 0.9512 - val_loss: 0.1346 - val_accuracy: 0.9579\n",
      "Epoch 9/50\n",
      "244/244 [==============================] - 0s 2ms/step - loss: 0.1324 - accuracy: 0.9528 - val_loss: 0.1388 - val_accuracy: 0.9508\n",
      "Epoch 10/50\n",
      "244/244 [==============================] - 0s 2ms/step - loss: 0.1303 - accuracy: 0.9556 - val_loss: 0.1338 - val_accuracy: 0.9518\n",
      "Epoch 11/50\n",
      "244/244 [==============================] - 0s 2ms/step - loss: 0.1213 - accuracy: 0.9595 - val_loss: 0.1152 - val_accuracy: 0.9621\n",
      "Epoch 12/50\n",
      "244/244 [==============================] - 0s 2ms/step - loss: 0.1169 - accuracy: 0.9587 - val_loss: 0.1263 - val_accuracy: 0.9610\n",
      "Epoch 13/50\n",
      "244/244 [==============================] - 0s 2ms/step - loss: 0.1152 - accuracy: 0.9618 - val_loss: 0.1079 - val_accuracy: 0.9672\n",
      "Epoch 14/50\n",
      "244/244 [==============================] - 0s 2ms/step - loss: 0.1116 - accuracy: 0.9630 - val_loss: 0.0958 - val_accuracy: 0.9651\n",
      "Epoch 15/50\n",
      "244/244 [==============================] - 0s 2ms/step - loss: 0.1024 - accuracy: 0.9674 - val_loss: 0.0881 - val_accuracy: 0.9713\n",
      "Epoch 16/50\n",
      "244/244 [==============================] - 0s 2ms/step - loss: 0.1031 - accuracy: 0.9641 - val_loss: 0.0981 - val_accuracy: 0.9651\n",
      "Epoch 17/50\n",
      "244/244 [==============================] - 0s 2ms/step - loss: 0.0990 - accuracy: 0.9687 - val_loss: 0.0837 - val_accuracy: 0.9744\n",
      "Epoch 18/50\n",
      "244/244 [==============================] - 0s 2ms/step - loss: 0.0949 - accuracy: 0.9705 - val_loss: 0.1035 - val_accuracy: 0.9600\n",
      "Epoch 19/50\n",
      "244/244 [==============================] - 0s 2ms/step - loss: 0.0918 - accuracy: 0.9723 - val_loss: 0.0806 - val_accuracy: 0.9754\n",
      "Epoch 20/50\n",
      "244/244 [==============================] - 0s 2ms/step - loss: 0.0885 - accuracy: 0.9736 - val_loss: 0.0764 - val_accuracy: 0.9764\n",
      "Epoch 21/50\n",
      "244/244 [==============================] - 0s 2ms/step - loss: 0.0888 - accuracy: 0.9725 - val_loss: 0.0725 - val_accuracy: 0.9795\n",
      "Epoch 22/50\n",
      "244/244 [==============================] - 0s 2ms/step - loss: 0.0890 - accuracy: 0.9715 - val_loss: 0.0702 - val_accuracy: 0.9805\n",
      "Epoch 23/50\n",
      "244/244 [==============================] - 0s 2ms/step - loss: 0.0837 - accuracy: 0.9723 - val_loss: 0.0753 - val_accuracy: 0.9774\n",
      "Epoch 24/50\n",
      "244/244 [==============================] - 0s 2ms/step - loss: 0.0795 - accuracy: 0.9756 - val_loss: 0.0766 - val_accuracy: 0.9692\n",
      "Epoch 25/50\n",
      "244/244 [==============================] - 0s 2ms/step - loss: 0.0898 - accuracy: 0.9715 - val_loss: 0.1027 - val_accuracy: 0.9703\n",
      "Epoch 26/50\n",
      "244/244 [==============================] - 0s 2ms/step - loss: 0.0807 - accuracy: 0.9759 - val_loss: 0.0674 - val_accuracy: 0.9795\n",
      "Epoch 27/50\n",
      "244/244 [==============================] - 0s 2ms/step - loss: 0.0811 - accuracy: 0.9761 - val_loss: 0.0754 - val_accuracy: 0.9754\n",
      "Epoch 28/50\n",
      "244/244 [==============================] - 0s 2ms/step - loss: 0.0778 - accuracy: 0.9769 - val_loss: 0.0602 - val_accuracy: 0.9785\n",
      "Epoch 29/50\n",
      "244/244 [==============================] - 0s 2ms/step - loss: 0.0719 - accuracy: 0.9792 - val_loss: 0.0626 - val_accuracy: 0.9805\n",
      "Epoch 30/50\n",
      "244/244 [==============================] - 0s 2ms/step - loss: 0.0712 - accuracy: 0.9797 - val_loss: 0.0586 - val_accuracy: 0.9805\n",
      "Epoch 31/50\n",
      "244/244 [==============================] - 0s 2ms/step - loss: 0.0710 - accuracy: 0.9784 - val_loss: 0.0566 - val_accuracy: 0.9826\n",
      "Epoch 32/50\n",
      "244/244 [==============================] - 0s 2ms/step - loss: 0.0707 - accuracy: 0.9795 - val_loss: 0.0646 - val_accuracy: 0.9754\n",
      "Epoch 33/50\n",
      "244/244 [==============================] - 0s 2ms/step - loss: 0.0732 - accuracy: 0.9784 - val_loss: 0.0791 - val_accuracy: 0.9713\n",
      "Epoch 34/50\n",
      "244/244 [==============================] - 0s 2ms/step - loss: 0.0690 - accuracy: 0.9808 - val_loss: 0.0613 - val_accuracy: 0.9785\n",
      "Epoch 35/50\n",
      "244/244 [==============================] - 0s 2ms/step - loss: 0.0691 - accuracy: 0.9805 - val_loss: 0.0535 - val_accuracy: 0.9846\n",
      "Epoch 36/50\n",
      "244/244 [==============================] - 0s 2ms/step - loss: 0.0731 - accuracy: 0.9802 - val_loss: 0.0519 - val_accuracy: 0.9826\n",
      "Epoch 37/50\n",
      "244/244 [==============================] - 0s 2ms/step - loss: 0.0664 - accuracy: 0.9808 - val_loss: 0.0767 - val_accuracy: 0.9713\n",
      "Epoch 38/50\n",
      "244/244 [==============================] - 0s 2ms/step - loss: 0.0682 - accuracy: 0.9790 - val_loss: 0.0566 - val_accuracy: 0.9805\n",
      "Epoch 39/50\n",
      "244/244 [==============================] - 0s 2ms/step - loss: 0.0690 - accuracy: 0.9792 - val_loss: 0.0512 - val_accuracy: 0.9826\n",
      "Epoch 40/50\n",
      "244/244 [==============================] - 0s 2ms/step - loss: 0.0646 - accuracy: 0.9815 - val_loss: 0.0513 - val_accuracy: 0.9836\n",
      "Epoch 41/50\n",
      "244/244 [==============================] - 0s 2ms/step - loss: 0.0650 - accuracy: 0.9782 - val_loss: 0.0562 - val_accuracy: 0.9795\n",
      "Epoch 42/50\n",
      "244/244 [==============================] - 0s 2ms/step - loss: 0.0639 - accuracy: 0.9810 - val_loss: 0.0526 - val_accuracy: 0.9795\n",
      "Epoch 43/50\n",
      "244/244 [==============================] - 0s 2ms/step - loss: 0.0662 - accuracy: 0.9792 - val_loss: 0.0489 - val_accuracy: 0.9846\n",
      "Epoch 44/50\n",
      "244/244 [==============================] - 0s 2ms/step - loss: 0.0658 - accuracy: 0.9810 - val_loss: 0.0482 - val_accuracy: 0.9846\n",
      "Epoch 45/50\n",
      "244/244 [==============================] - 0s 2ms/step - loss: 0.0635 - accuracy: 0.9813 - val_loss: 0.0489 - val_accuracy: 0.9846\n",
      "Epoch 46/50\n",
      "244/244 [==============================] - 0s 2ms/step - loss: 0.0658 - accuracy: 0.9818 - val_loss: 0.0748 - val_accuracy: 0.9703\n",
      "Epoch 47/50\n",
      "244/244 [==============================] - 0s 2ms/step - loss: 0.0631 - accuracy: 0.9813 - val_loss: 0.0609 - val_accuracy: 0.9785\n",
      "Epoch 48/50\n",
      "244/244 [==============================] - 0s 2ms/step - loss: 0.0623 - accuracy: 0.9820 - val_loss: 0.0546 - val_accuracy: 0.9826\n",
      "Epoch 49/50\n",
      "244/244 [==============================] - 0s 2ms/step - loss: 0.0618 - accuracy: 0.9820 - val_loss: 0.0479 - val_accuracy: 0.9826\n",
      "Epoch 50/50\n",
      "244/244 [==============================] - 0s 2ms/step - loss: 0.0633 - accuracy: 0.9823 - val_loss: 0.0534 - val_accuracy: 0.9826\n"
     ]
    }
   ],
   "source": [
    "history=model.fit(X_train, y_train, validation_split=0.2, epochs = 50, batch_size = 16, verbose = 1)"
   ]
  },
  {
   "cell_type": "markdown",
   "id": "496f714d",
   "metadata": {},
   "source": [
    "# Predicting Values"
   ]
  },
  {
   "cell_type": "code",
   "execution_count": 23,
   "id": "9c99d920",
   "metadata": {},
   "outputs": [
    {
     "name": "stdout",
     "output_type": "stream",
     "text": [
      "51/51 [==============================] - 0s 1ms/step\n",
      "[[5.3803506e-03]\n",
      " [1.0262623e-02]\n",
      " [3.1847743e-05]\n",
      " ...\n",
      " [2.4805097e-03]\n",
      " [9.9977320e-01]\n",
      " [7.0350207e-03]]\n"
     ]
    }
   ],
   "source": [
    "y_pred = model.predict(X_test)\n",
    "print(y_pred)"
   ]
  },
  {
   "cell_type": "markdown",
   "id": "15690e21",
   "metadata": {},
   "source": [
    "# Pickling The Model for Deployment"
   ]
  },
  {
   "cell_type": "code",
   "execution_count": 25,
   "id": "ff24fcd7",
   "metadata": {},
   "outputs": [
    {
     "name": "stdout",
     "output_type": "stream",
     "text": [
      "Keras weights file (<HDF5 file \"variables.h5\" (mode r+)>) saving:\n",
      "...layers\\dense\n",
      "......vars\n",
      ".........0\n",
      ".........1\n",
      "...layers\\dense_1\n",
      "......vars\n",
      ".........0\n",
      ".........1\n",
      "...layers\\dense_2\n",
      "......vars\n",
      ".........0\n",
      ".........1\n",
      "...layers\\dense_3\n",
      "......vars\n",
      ".........0\n",
      ".........1\n",
      "...metrics\\mean\n",
      "......vars\n",
      ".........0\n",
      ".........1\n",
      "...metrics\\mean_metric_wrapper\n",
      "......vars\n",
      ".........0\n",
      ".........1\n",
      "...optimizer\n",
      "......vars\n",
      ".........0\n",
      ".........1\n",
      ".........10\n",
      ".........11\n",
      ".........12\n",
      ".........13\n",
      ".........14\n",
      ".........15\n",
      ".........16\n",
      ".........2\n",
      ".........3\n",
      ".........4\n",
      ".........5\n",
      ".........6\n",
      ".........7\n",
      ".........8\n",
      ".........9\n",
      "...vars\n",
      "Keras model archive saving:\n",
      "File Name                                             Modified             Size\n",
      "config.json                                    2022-12-08 02:28:03         2246\n",
      "metadata.json                                  2022-12-08 02:28:03           64\n",
      "variables.h5                                   2022-12-08 02:28:03        31240\n"
     ]
    }
   ],
   "source": [
    "pickle.dump(model, open('model.pkl', 'wb'))"
   ]
  },
  {
   "cell_type": "code",
   "execution_count": 26,
   "id": "8bd4b567",
   "metadata": {},
   "outputs": [
    {
     "name": "stdout",
     "output_type": "stream",
     "text": [
      "Keras model archive loading:\n",
      "File Name                                             Modified             Size\n",
      "config.json                                    2022-12-08 02:28:02         2246\n",
      "metadata.json                                  2022-12-08 02:28:02           64\n",
      "variables.h5                                   2022-12-08 02:28:02        31240\n",
      "Keras weights file (<HDF5 file \"variables.h5\" (mode r)>) loading:\n",
      "...layers\\dense\n",
      "......vars\n",
      ".........0\n",
      ".........1\n",
      "...layers\\dense_1\n",
      "......vars\n",
      ".........0\n",
      ".........1\n",
      "...layers\\dense_2\n",
      "......vars\n",
      ".........0\n",
      ".........1\n",
      "...layers\\dense_3\n",
      "......vars\n",
      ".........0\n",
      ".........1\n",
      "...metrics\\mean\n",
      "......vars\n",
      ".........0\n",
      ".........1\n",
      "...metrics\\mean_metric_wrapper\n",
      "......vars\n",
      ".........0\n",
      ".........1\n",
      "...optimizer\n",
      "......vars\n",
      ".........0\n",
      ".........1\n",
      ".........10\n",
      ".........11\n",
      ".........12\n",
      ".........13\n",
      ".........14\n",
      ".........15\n",
      ".........16\n",
      ".........2\n",
      ".........3\n",
      ".........4\n",
      ".........5\n",
      ".........6\n",
      ".........7\n",
      ".........8\n",
      ".........9\n",
      "...vars\n",
      "51/51 [==============================] - 0s 1ms/step\n"
     ]
    },
    {
     "data": {
      "text/plain": [
       "array([[5.3803506e-03],\n",
       "       [1.0262623e-02],\n",
       "       [3.1847743e-05],\n",
       "       ...,\n",
       "       [2.4805097e-03],\n",
       "       [9.9977320e-01],\n",
       "       [7.0350207e-03]], dtype=float32)"
      ]
     },
     "execution_count": 26,
     "metadata": {},
     "output_type": "execute_result"
    }
   ],
   "source": [
    "pickled_model = pickle.load(open('model.pkl', 'rb'))\n",
    "pickled_model.predict(X_test)"
   ]
  }
 ],
 "metadata": {
  "kernelspec": {
   "display_name": "Python 3",
   "language": "python",
   "name": "python3"
  },
  "language_info": {
   "codemirror_mode": {
    "name": "ipython",
    "version": 3
   },
   "file_extension": ".py",
   "mimetype": "text/x-python",
   "name": "python",
   "nbconvert_exporter": "python",
   "pygments_lexer": "ipython3",
   "version": "3.10.6"
  },
  "vscode": {
   "interpreter": {
    "hash": "26de051ba29f2982a8de78e945f0abaf191376122a1563185a90213a26c5da77"
   }
  }
 },
 "nbformat": 4,
 "nbformat_minor": 5
}
